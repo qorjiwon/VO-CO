{
 "cells": [
  {
   "cell_type": "code",
   "execution_count": 42,
   "id": "6832dad8",
   "metadata": {},
   "outputs": [],
   "source": [
    "from pytube import YouTube\n",
    "import moviepy.editor as mp\n",
    "import re"
   ]
  },
  {
   "cell_type": "code",
   "execution_count": 56,
   "id": "83f95e2e",
   "metadata": {},
   "outputs": [],
   "source": [
    "# 유튜브 영상 다운로드 후 오디오 추출\n",
    "def DownloadYoutubeToMP3(directory = \"C:/Users/82108/Desktop/MyProject/VoiceConversion/model\", result_file_name = \"result\"):\n",
    "    url = input()\n",
    "    yt = YouTube(url)\n",
    "    stream = yt.streams.get_highest_resolution()\n",
    "    stream.download(directory)\n",
    "    title = yt.title\n",
    "    filename = remove_unreadable_characters(title)\n",
    "    clip = mp.VideoFileClip(filename)\n",
    "    clip.audio.write_audiofile(result_file_name+\".mp3\")\n",
    "\n",
    "# 유튜브 영상을 저장할 때 제외되는 특수문자들 제거\n",
    "# 이름이 변경되서 title을 받아오는 모듈의 반환값과 저장되는 이름이 달라서 인식을 못함\n",
    "def remove_unreadable_characters(title):\n",
    "    filename = title.replace('#','')\n",
    "    filename = title.replace(\"'\",'')\n",
    "    filename = re.sub('[,\\/:*?\"<>|.]','',filename)+'.mp4'\n",
    "    return filename"
   ]
  },
  {
   "cell_type": "code",
   "execution_count": 57,
   "id": "69706f6f",
   "metadata": {},
   "outputs": [
    {
     "name": "stdout",
     "output_type": "stream",
     "text": [
      "https://www.youtube.com/watch?v=YlQu0w8iSwk\n",
      "MoviePy - Writing audio in result5.mp3\n"
     ]
    },
    {
     "name": "stderr",
     "output_type": "stream",
     "text": [
      "                                                                        "
     ]
    },
    {
     "name": "stdout",
     "output_type": "stream",
     "text": [
      "MoviePy - Done.\n"
     ]
    },
    {
     "name": "stderr",
     "output_type": "stream",
     "text": [
      "\r"
     ]
    }
   ],
   "source": [
    "DownloadYoutubeToMP3(result_file_name = \"result5\")"
   ]
  }
 ],
 "metadata": {
  "kernelspec": {
   "display_name": "Python 3 (ipykernel)",
   "language": "python",
   "name": "python3"
  },
  "language_info": {
   "codemirror_mode": {
    "name": "ipython",
    "version": 3
   },
   "file_extension": ".py",
   "mimetype": "text/x-python",
   "name": "python",
   "nbconvert_exporter": "python",
   "pygments_lexer": "ipython3",
   "version": "3.9.7"
  }
 },
 "nbformat": 4,
 "nbformat_minor": 5
}
